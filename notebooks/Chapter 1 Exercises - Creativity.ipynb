{
 "cells": [
  {
   "cell_type": "markdown",
   "metadata": {},
   "source": [
    "# C-1.13\n",
    "Write a pseudo-code description of a function that reverses a list of n integers, so that the numbers are listed in the opposite order than they were before, and compare this method to an equivalent Python function for doing the same thing."
   ]
  },
  {
   "cell_type": "code",
   "execution_count": null,
   "metadata": {},
   "outputs": [],
   "source": [
    "# My attempt\n",
    "def list_reversal(arr):\n",
    "    list_length = len(arr)\n",
    "    second_list = [0] * list_length\n",
    "    for index in range(list_length):\n",
    "        second_list[index] = arr[list_length - index - 1]\n",
    "        second_list[list_length - index - 1] = arr[index]\n",
    "    return second_list\n",
    "# 3.08 µs ± 60.6 ns per loop (mean ± std. dev. of 7 runs, 100000 loops each)\n",
    "\n",
    "# Better way\n",
    "def list_reversal_2(arr):\n",
    "    return arr[::-1] # Creates a shallow copy\n",
    "# 369 ns ± 6.28 ns per loop (mean ± std. dev. of 7 runs, 1000000 loops each)"
   ]
  },
  {
   "cell_type": "markdown",
   "metadata": {},
   "source": [
    "# C-1.14\n",
    "Write a short Python function that takes a sequence of integer values and determines if there is a distinct pair of numbers in the sequence whose product is odd."
   ]
  },
  {
   "cell_type": "code",
   "execution_count": null,
   "metadata": {},
   "outputs": [],
   "source": [
    "# My attempt\n",
    "def odd_product(arr):\n",
    "    for i in range(len(arr)):\n",
    "        for j in range(len(arr)):\n",
    "            if i != j:\n",
    "                if (arr[i] * arr[j]) % 2 == 1:\n",
    "                    return True\n",
    "    return False\n",
    "# 4.18 µs ± 104 ns per loop (mean ± std. dev. of 7 runs, 100000 loops each)\n",
    "\n",
    "# Better way (only checks if there are >= 2 odd numbers)\n",
    "def odd_product_2(arr):\n",
    "    count = 0\n",
    "    for num in arr:\n",
    "        if num %2 == 1:\n",
    "            count += 1\n",
    "    if count >= 2:\n",
    "        return True\n",
    "# 481 ns ± 8.92 ns per loop (mean ± std. dev. of 7 runs, 1000000 loops each)"
   ]
  },
  {
   "cell_type": "markdown",
   "metadata": {},
   "source": [
    "# C-1.15\n",
    "Write a Python function that takes a sequence of numbers and determines if all the numbers are different from each other (that is, they are distinct). "
   ]
  },
  {
   "cell_type": "code",
   "execution_count": null,
   "metadata": {},
   "outputs": [],
   "source": [
    "# My attempt (O(1) is better than book's response of O(n^2))\n",
    "def distinct_items(arr):\n",
    "    arr_set = set(arr)\n",
    "    if len(arr_set) == len(arr):\n",
    "        return True\n",
    "# 613 ns ± 18.1 ns per loop (mean ± std. dev. of 7 runs, 1000000 loops each)"
   ]
  },
  {
   "cell_type": "markdown",
   "metadata": {},
   "source": [
    "# C-1.16\n",
    "In our implementation of the scale function (page 25), the body of the loop executes the command data[j] = factor. We have discussed that numeric types are immutable, and that use of the = operator in this context causes the creation of a new instance (not the mutation of an existing instance). How is it still possible, then, that our implementation of scale changes the actual parameter sent by the caller?"
   ]
  },
  {
   "cell_type": "markdown",
   "metadata": {},
   "source": [
    ".# My attempt <br>\n",
    "I would guess that what is actually happening is that a new spot in memory is filled with the product and then the list is updated to point to this new location.\n",
    "\n",
    ".# Answer <br>\n",
    "Pretty much what I said. The alias gets updated after the calculation.\n",
    "\n",
    "---"
   ]
  },
  {
   "cell_type": "markdown",
   "metadata": {},
   "source": [
    "# C-1.17\n",
    "Had we implemented the scale function (page 25) as follows, does it work properly?\n",
    "```\n",
    "def scale(data, factor):\n",
    "    for val in data:\n",
    "        val *= factor\n",
    "```\n",
    "Explain why or why not. "
   ]
  },
  {
   "cell_type": "markdown",
   "metadata": {},
   "source": [
    ".# My attempt <br>\n",
    "It will not work because of namespace. val is updated but never assigned to the list. If you return val, it will have the proper value.\n",
    "\n",
    ".# Answer\n",
    "Pretty much what I said. The updated val needs to be assigned an entry in the list.\n",
    "\n",
    "---"
   ]
  },
  {
   "cell_type": "markdown",
   "metadata": {},
   "source": [
    "# C-1.18\n",
    "Demonstrate how to use Python’s list comprehension syntax to produce the list [0, 2, 6, 12, 20, 30, 42, 56, 72, 90]."
   ]
  },
  {
   "cell_type": "code",
   "execution_count": null,
   "metadata": {},
   "outputs": [],
   "source": [
    "# Answer\n",
    "[n * (n+1) for n in range(10)]"
   ]
  },
  {
   "cell_type": "markdown",
   "metadata": {},
   "source": [
    "# C-1.19\n",
    "Demonstrate how to use Python’s list comprehension syntax to produce the list [ a , b , c , ..., z ], but without having to type all 26 such characters literally."
   ]
  },
  {
   "cell_type": "code",
   "execution_count": null,
   "metadata": {},
   "outputs": [],
   "source": [
    "# Answer\n",
    "[chr(x) for x in range(97,123)]"
   ]
  },
  {
   "cell_type": "markdown",
   "metadata": {},
   "source": [
    "# C-1.20 \n",
    "Python’s random module includes a function shuﬄe(data) that accepts a list of elements and randomly reorders the elements so that each possible order occurs with equal probability. The random module includes a more basic function randint(a, b) that returns a uniformly random integer from a to b (including both endpoints). Using only the randint function, implement your own version of the shuﬄe function."
   ]
  },
  {
   "cell_type": "code",
   "execution_count": null,
   "metadata": {},
   "outputs": [],
   "source": [
    "from random import shuffle, randint\n",
    "\n",
    "# My attempt\n",
    "def randint_shuffle(arr):\n",
    "    arr_len = len(arr) - 1\n",
    "    for i in range(arr_len):\n",
    "        index = randint(0,arr_len)\n",
    "        arr[index], arr[arr_len - index] = arr[arr_len - index], arr[index]\n",
    "    return arr\n",
    "# 14.9 µs ± 280 ns per loop (mean ± std. dev. of 7 runs, 100000 loops each)\n",
    "\n",
    "# Better way\n",
    "def shuffle2(data):\n",
    "    for i in range(len(data)-1,-1,-1):\n",
    "        luck=randint(0,i)\n",
    "        temp=data[luck]\n",
    "        del data[luck]\n",
    "        data.append(temp)\n",
    "    return data"
   ]
  },
  {
   "cell_type": "markdown",
   "metadata": {},
   "source": [
    "# C-1.21\n",
    "Write a Python program that repeatedly reads lines from standard input until an EOFError is raised, and then outputs those lines in reverse order (a user can indicate end of input by typing ctrl-D)."
   ]
  },
  {
   "cell_type": "code",
   "execution_count": 2,
   "metadata": {},
   "outputs": [],
   "source": [
    "# My attempt\n",
    "def reverse_inputs():\n",
    "    lst = []\n",
    "    while True:\n",
    "        try:\n",
    "            inpt = input(\"Enter a line:\")\n",
    "            if inpt == '':\n",
    "                break\n",
    "            lst.append(inpt)\n",
    "        except EOFError:\n",
    "            break\n",
    "    return lst[::-1]\n",
    "# Cannot be timed since its input. Idk how to trigger a EOFError with the input."
   ]
  },
  {
   "cell_type": "markdown",
   "metadata": {},
   "source": [
    "# C-1.22\n",
    "Write a short Python program that takes two arrays a and b of length n storing intvalues, and returns the dot product of a and b. That is, it returns an array c of length n such that c[i]=a[i]·b[i], for i = 0,...,n−1."
   ]
  },
  {
   "cell_type": "code",
   "execution_count": 7,
   "metadata": {},
   "outputs": [],
   "source": [
    "def dot_product(list_1,list_2):    \n",
    "    if len(list_1) == len(list_2):\n",
    "        dot_prod_list = [list_1[i] * list_2[i] for i in range(len(list_1))]\n",
    "        return dot_prod_list\n",
    "    return"
   ]
  },
  {
   "cell_type": "markdown",
   "metadata": {},
   "source": [
    "# C-1.23\n",
    "Give an example of a Python code fragment that attempts to write an element to a list based on an index that may be out of bounds. If that index is out of bounds, the program should catch the exception that results, and print the following error message: “Don’t try buffer overflow attacks in Python!"
   ]
  },
  {
   "cell_type": "code",
   "execution_count": 12,
   "metadata": {},
   "outputs": [],
   "source": [
    "# My attempt\n",
    "def write_to_index(lst, index, val):\n",
    "    try:\n",
    "        lst[index] = val\n",
    "    except IndexError:\n",
    "        print(\"Don’t try buffer overflow attacks in Python!\")"
   ]
  },
  {
   "cell_type": "markdown",
   "metadata": {},
   "source": [
    "# C-1.24\n",
    "Write a short Python function that counts the number of vowels in a given character string."
   ]
  },
  {
   "cell_type": "code",
   "execution_count": 18,
   "metadata": {},
   "outputs": [],
   "source": [
    "def vowel_count(string):\n",
    "    count = 0\n",
    "    for chr in string.lower():\n",
    "        if chr in 'aeiou':\n",
    "            count += 1\n",
    "    return count"
   ]
  },
  {
   "cell_type": "markdown",
   "metadata": {},
   "source": [
    "# C-1.25 \n",
    "Write a short Python function that takes as tring s, representing a sentence, and returns a copy of the string with all punctuation removed. For example, if given the string \"Let's try, Mike.\", this function would return \"Lets try Mike\"."
   ]
  },
  {
   "cell_type": "code",
   "execution_count": 23,
   "metadata": {},
   "outputs": [],
   "source": [
    "def rmv_punctuation(sentence):\n",
    "    copy = \"\"\n",
    "    for chr in sentence:\n",
    "        if chr not in \"':,-!_().?;\":\n",
    "            copy += chr\n",
    "    return copy"
   ]
  },
  {
   "cell_type": "markdown",
   "metadata": {},
   "source": [
    "# C-1.26\n",
    "Write a short program that takes as input three integers, a, b, and c, from the console and determines if they can be used in a correct arithmetic formula (in the given order), like “a+b = c,” “a = b−c,” or “a∗b = c.”"
   ]
  },
  {
   "cell_type": "code",
   "execution_count": 9,
   "metadata": {},
   "outputs": [],
   "source": [
    "def arithmetic_check(a,b,c):\n",
    "    # Using only the 4 standard arithmetic operators (*, /, +, -)\n",
    "    operators = [\"+\",\"-\",\"*\",\"/\"]\n",
    "    for operator in operators:\n",
    "        if eval(\"{} {} {}\".format(a,operator,b)) == c:\n",
    "            return True\n",
    "        if a == eval(\"{} {} {}\".format(b,operator,c)):\n",
    "            return True"
   ]
  },
  {
   "cell_type": "markdown",
   "metadata": {},
   "source": [
    "# C-1.27\n",
    "In Section 1.8, we provided three different implementations of a generator that computes factors of a given integer. The third of those implementations, from page 41, was the most efﬁcient, but we noted that it did not yield the factors in increasing order. Modify the generator so that it reports factors in increasing order, while maintaining its general performance advantages."
   ]
  },
  {
   "cell_type": "code",
   "execution_count": 22,
   "metadata": {},
   "outputs": [],
   "source": [
    "def factor(n):\n",
    "    k=1\n",
    "    buffer = []\n",
    "    while k * k < n:\n",
    "        if n % k == 0:\n",
    "            yield k\n",
    "            buffer.append(n // k)\n",
    "        k += 1\n",
    "    if k * k == n:\n",
    "        yield k\n",
    "    for val in reversed(buffer):\n",
    "        yield val\n",
    "# 231 ns ± 2.77 ns per loop (mean ± std. dev. of 7 runs, 1000000 loops each)"
   ]
  },
  {
   "cell_type": "markdown",
   "metadata": {},
   "source": [
    "# C-1.28\n",
    "The p-norm of a vector v =( v1,v2,...,vn) in n-dimensional space is deﬁned as \u0007v\u0007= p \u0002vp 1 +vp 2 +···+vp n. For the special case of p = 2, this results in the traditional Euclidean norm, which represents the length of the vector. For example, the Euclidean norm of a two-dimensional vector with coordinates (4,3) has a Euclidean norm of√42 +32 =√16+9 =√25 = 5. Give an implementation of a function named norm such that norm(v, p) returns the p-norm value of v and norm(v) returns the Euclidean norm of v. You may assume that v is a list of numbers."
   ]
  },
  {
   "cell_type": "code",
   "execution_count": 27,
   "metadata": {},
   "outputs": [],
   "source": [
    "def norm(v, p=2):\n",
    "    squared_vector = [x**p for x in v]\n",
    "    sum_vector = sum(squared_vector)\n",
    "    return sum_vector**(1/p)"
   ]
  }
 ],
 "metadata": {
  "kernelspec": {
   "display_name": "Python 3",
   "language": "python",
   "name": "python3"
  },
  "language_info": {
   "codemirror_mode": {
    "name": "ipython",
    "version": 3
   },
   "file_extension": ".py",
   "mimetype": "text/x-python",
   "name": "python",
   "nbconvert_exporter": "python",
   "pygments_lexer": "ipython3",
   "version": "3.7.3"
  }
 },
 "nbformat": 4,
 "nbformat_minor": 2
}
